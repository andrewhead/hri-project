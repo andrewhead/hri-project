{
 "cells": [
  {
   "cell_type": "code",
   "execution_count": 2,
   "metadata": {
    "collapsed": false
   },
   "outputs": [
    {
     "name": "stdout",
     "output_type": "stream",
     "text": [
      "Populating the interactive namespace from numpy and matplotlib\n"
     ]
    }
   ],
   "source": [
    "%pylab inline"
   ]
  },
  {
   "cell_type": "code",
   "execution_count": 55,
   "metadata": {
    "collapsed": true
   },
   "outputs": [],
   "source": [
    "import os.path\n",
    "import re\n",
    "import subprocess\n",
    "import sys"
   ]
  },
  {
   "cell_type": "code",
   "execution_count": 74,
   "metadata": {
    "collapsed": true
   },
   "outputs": [],
   "source": [
    "MODELS_DIR = 'models'\n",
    "MODELNAME = 'iter%d.model'\n",
    "LABELED_DATA = os.path.join('data', 'labeled.dat')\n",
    "UNLABELED_DATA = os.path.join('data', 'unlabeled.dat')\n",
    "VW_CODE_DIR = os.path.join(os.pardir, os.pardir, 'deps', 'vowpal_wabbit')\n",
    "VW_EXEC_DIR = os.path.join(VW_CODE_DIR, 'vowpalwabbit')"
   ]
  },
  {
   "cell_type": "markdown",
   "metadata": {},
   "source": [
    "Load the points from the labeled dataset"
   ]
  },
  {
   "cell_type": "code",
   "execution_count": 25,
   "metadata": {
    "collapsed": false
   },
   "outputs": [],
   "source": [
    "points = []\n",
    "\n",
    "with open(LABELED_DATA) as truthdata:\n",
    "    while True:\n",
    "        l = truthdata.readline()\n",
    "        if l == '':\n",
    "            break\n",
    "        m = re.match('(\\d).*\\| x:(\\d.\\d{2}) y:(\\d.\\d{2})', l)\n",
    "        p = {\n",
    "            'label': int(m.group(1)),\n",
    "            'x': float(m.group(2)),\n",
    "            'y': float(m.group(3)),\n",
    "        }\n",
    "        points.append(p)"
   ]
  },
  {
   "cell_type": "markdown",
   "metadata": {},
   "source": [
    "Plot expected labels for data"
   ]
  },
  {
   "cell_type": "code",
   "execution_count": 26,
   "metadata": {
    "collapsed": true
   },
   "outputs": [],
   "source": [
    "x0 = [p['x'] for p in points if p['label'] == 0]\n",
    "y0 = [p['y'] for p in points if p['label'] == 0]\n",
    "x1 = [p['x'] for p in points if p['label'] == 1]\n",
    "y1 = [p['y'] for p in points if p['label'] == 1]"
   ]
  },
  {
   "cell_type": "code",
   "execution_count": 45,
   "metadata": {
    "collapsed": false
   },
   "outputs": [
    {
     "data": {
      "text/plain": [
       "(0, 1)"
      ]
     },
     "execution_count": 45,
     "metadata": {},
     "output_type": "execute_result"
    },
    {
     "data": {
      "image/png": "[encoded data removed]",
      "text/plain": [
       "<matplotlib.figure.Figure at 0x1138eb1d0>"
      ]
     },
     "metadata": {},
     "output_type": "display_data"
    }
   ],
   "source": [
    "scatter(x0, y0, color='r')\n",
    "hold('on')\n",
    "scatter(x1, y1, color='b')\n",
    "hold('on')\n",
    "plot(linspace(0, 1, 101), linspace(0, 1, 101), color='k')\n",
    "title(\"Ground truth labels for points\")\n",
    "xlim(0, 1)\n",
    "ylim(0, 1)"
   ]
  },
  {
   "cell_type": "markdown",
   "metadata": {},
   "source": [
    "Get variable names from hashes"
   ]
  },
  {
   "cell_type": "code",
   "execution_count": 87,
   "metadata": {
    "collapsed": false
   },
   "outputs": [],
   "source": [
    "output = subprocess.check_output(\n",
    "    ['utl/vw-varinfo', os.path.abspath(UNLABELED_DATA)], \n",
    "    stderr=subprocess.STDOUT,\n",
    "    cwd=VW_CODE_DIR,\n",
    "    env=dict(os.environ, PATH=os.environ['PATH'] + ':' + VW_EXEC_DIR)\n",
    ")"
   ]
  },
  {
   "cell_type": "code",
   "execution_count": 100,
   "metadata": {
    "collapsed": false
   },
   "outputs": [],
   "source": [
    "varhashes = {}\n",
    "for l in output.split('\\n')[1:]:\n",
    "    if l != '':\n",
    "        m = re.match('\\^?([^\\s]+)\\s*(\\d+).*', l)\n",
    "        name = m.group(1)\n",
    "        hash_ = int(m.group(2))\n",
    "        varhashes[hash_] = name"
   ]
  },
  {
   "cell_type": "markdown",
   "metadata": {},
   "source": [
    "Read in coefficients for models"
   ]
  },
  {
   "cell_type": "code",
   "execution_count": 125,
   "metadata": {
    "collapsed": false
   },
   "outputs": [],
   "source": [
    "file_index = 1\n",
    "iterations = []\n",
    "while True:\n",
    "    modelfile = os.path.join(MODELS_DIR, MODELNAME % file_index)\n",
    "    coefficients = {}\n",
    "    if os.path.exists(modelfile):\n",
    "        with open(modelfile) as mfile:\n",
    "            text = mfile.read()\n",
    "            for vhash, vname in varhashes.items():\n",
    "                m = re.search('^' + str(vhash) + ':(.*)$', text, re.MULTILINE)\n",
    "                if m is not None:\n",
    "                    coefficients[vname] = float(m.group(1))\n",
    "    else:\n",
    "        break\n",
    "    iterations.append(coefficients)\n",
    "    file_index += 1"
   ]
  },
  {
   "cell_type": "markdown",
   "metadata": {},
   "source": [
    "We can convert between the model that VW provides us and a decision boundary as follows.\n",
    "Let's assume that VW will declare a point with a label of 1 if the hypothesis predicts >=1/2, and a label of 0 if below.\n",
    "Then the decision boundary occurs at\n",
    "\n",
    "    constant + a*x + b*y = 1/2\n",
    "   \n",
    "Solving this equation for y, we get the equation:\n",
    "\n",
    "$$y = \\frac{1}{b} (-ax + (-c + \\frac{1}{2}))$$"
   ]
  },
  {
   "cell_type": "code",
   "execution_count": 127,
   "metadata": {
    "collapsed": true
   },
   "outputs": [],
   "source": [
    "def model_to_boundary(constant, xcoeff, ycoeff):\n",
    "    return lambda x: (1 / ycoeff) * (((-1) * xcoeff * x) + (-constant + .5))"
   ]
  },
  {
   "cell_type": "markdown",
   "metadata": {},
   "source": [
    "Show every third model so that we can see how the decision boundary changes over time for active learning"
   ]
  },
  {
   "cell_type": "code",
   "execution_count": 135,
   "metadata": {
    "collapsed": false
   },
   "outputs": [
    {
     "data": {
      "image/png": "[encoded data removed]",
      "text/plain": [
       "<matplotlib.figure.Figure at 0x1149d6ed0>"
      ]
     },
     "metadata": {},
     "output_type": "display_data"
    }
   ],
   "source": [
    "STEP = 3\n",
    "subplot_count = len(iterations) / STEP\n",
    "subplot_idx = 0\n",
    "\n",
    "fig = figure(figsize=(4,20))\n",
    "\n",
    "for idx, coeff in enumerate(iterations):\n",
    "    \n",
    "    if not idx % STEP == 0:\n",
    "        continue\n",
    "    if coeff == {}:\n",
    "        subplot_count -= 1\n",
    "        continue\n",
    "        \n",
    "    subplot(subplot_count, 1, subplot_idx)\n",
    "    subplot_idx += 1\n",
    "    \n",
    "    # Make the boundary\n",
    "    x = linspace(0, 1, 101)\n",
    "    boundary = model_to_boundary(coeff['Constant'], coeff['x'], coeff['y'])\n",
    "    y = [boundary(xi) for xi in x]\n",
    "    \n",
    "    # Get points for the current examples\n",
    "    num_points = idx\n",
    "    examples = points[:idx]\n",
    "    ex0 = [p['x'] for p in examples if p['label'] == 0]\n",
    "    ey0 = [p['y'] for p in examples if p['label'] == 0]\n",
    "    ex1 = [p['x'] for p in examples if p['label'] == 1]\n",
    "    ey1 = [p['y'] for p in examples if p['label'] == 1]    \n",
    "    \n",
    "    scatter(ex0, ey0, color='r')\n",
    "    hold('on')\n",
    "    scatter(ex1, ey1, color='b')\n",
    "    hold('on')\n",
    "    plot(x, y)\n",
    "    xlim(0,1)\n",
    "    ylim(0,1)"
   ]
  },
  {
   "cell_type": "code",
   "execution_count": null,
   "metadata": {
    "collapsed": true
   },
   "outputs": [],
   "source": []
  }
 ],
 "metadata": {
  "kernelspec": {
   "display_name": "Python 2",
   "language": "python",
   "name": "python2"
  },
  "language_info": {
   "codemirror_mode": {
    "name": "ipython",
    "version": 2
   },
   "file_extension": ".py",
   "mimetype": "text/x-python",
   "name": "python",
   "nbconvert_exporter": "python",
   "pygments_lexer": "ipython2",
   "version": "2.7.9"
  }
 },
 "nbformat": 4,
 "nbformat_minor": 0
}
